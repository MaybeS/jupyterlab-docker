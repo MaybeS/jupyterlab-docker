{
 "cells": [
  {
   "cell_type": "markdown",
   "id": "expanded-mainland",
   "metadata": {},
   "source": [
    "## Enable ssl\n",
    "\n",
    "The key file should be `/opt/app/etc/privkey.pem` and `/opt/app/etc/fullchain.pem`."
   ]
  },
  {
   "cell_type": "code",
   "execution_count": null,
   "id": "intensive-idaho",
   "metadata": {},
   "outputs": [],
   "source": [
    "!sed -i \"s/# c.NotebookApp.keyfile = '\\/opt\\/app\\/cert\\/privkey.pem'/c.NotebookApp.keyfile = '\\/opt\\/app\\/etc\\/privkey.pem'/g\" /root/.jupyter/jupyter_notebook_config.py\n",
    "!sed -i \"s/# c.NotebookApp.certfile = '\\/opt\\/app\\/cert\\/fullchain.pem'/c.NotebookApp.certfile = '\\/opt\\/app\\/etc\\/fullchain.pem'/g\" /root/.jupyter/jupyter_notebook_config.py"
   ]
  },
  {
   "cell_type": "markdown",
   "id": "prescription-entrance",
   "metadata": {},
   "source": [
    "## Change password"
   ]
  },
  {
   "cell_type": "code",
   "execution_count": null,
   "id": "military-proof",
   "metadata": {},
   "outputs": [],
   "source": [
    "from notebook.auth import passwd"
   ]
  },
  {
   "cell_type": "code",
   "execution_count": null,
   "id": "collaborative-genre",
   "metadata": {},
   "outputs": [],
   "source": [
    "new_password = passwd()\n",
    "!sed -i \"s/(\\# )?c.NotebookApp.password = '(.*?)'/c.NotebookApp.password = '$new_password'/g\" /root/.jupyter/jupyter_notebook_config.py"
   ]
  },
  {
   "cell_type": "code",
   "execution_count": null,
   "id": "traditional-mobile",
   "metadata": {},
   "outputs": [],
   "source": []
  }
 ],
 "metadata": {
  "kernelspec": {
   "display_name": "Python 3",
   "language": "python",
   "name": "python3"
  },
  "language_info": {
   "codemirror_mode": {
    "name": "ipython",
    "version": 3
   },
   "file_extension": ".py",
   "mimetype": "text/x-python",
   "name": "python",
   "nbconvert_exporter": "python",
   "pygments_lexer": "ipython3",
   "version": "3.8.8"
  }
 },
 "nbformat": 4,
 "nbformat_minor": 5
}
